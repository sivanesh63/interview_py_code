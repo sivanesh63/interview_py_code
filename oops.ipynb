{
 "cells": [
  {
   "cell_type": "code",
   "execution_count": 4,
   "id": "92d247be",
   "metadata": {},
   "outputs": [],
   "source": [
    "class animal():\n",
    "    def __init__(self,name,sound):\n",
    "        self.name=name\n",
    "        self.sound=sound\n",
    "    def speak(self):\n",
    "        print(f\"the pet {self.name} is give sound like {self.sound}\")"
   ]
  },
  {
   "cell_type": "code",
   "execution_count": 5,
   "id": "597e3bf3",
   "metadata": {},
   "outputs": [
    {
     "name": "stdout",
     "output_type": "stream",
     "text": [
      "the pet kata is give sound like meaw\n"
     ]
    }
   ],
   "source": [
    "pet=animal(\"kata\",\"meaw\")\n",
    "\n",
    "val=pet.speak()\n",
    "val"
   ]
  },
  {
   "cell_type": "markdown",
   "id": "f6d32b51",
   "metadata": {},
   "source": [
    "inheritance"
   ]
  },
  {
   "cell_type": "code",
   "execution_count": null,
   "id": "9e604631",
   "metadata": {},
   "outputs": [],
   "source": [
    "class pet():\n",
    "    def __init__(self):\n",
    "        self.name=\"tom\"\n",
    "        self.sound=\"meaw\"\n",
    "    def speak(self):\n",
    "        print(f\"the pet {self.name} speak in {self.sound}\")\n",
    "\n",
    "class Get(pet):\n",
    "   \n",
    "    def s_sound(self):\n",
    "        print(self.sound)"
   ]
  },
  {
   "cell_type": "code",
   "execution_count": 14,
   "id": "5c47b3c6",
   "metadata": {},
   "outputs": [
    {
     "name": "stdout",
     "output_type": "stream",
     "text": [
      "meaw\n",
      "the pet tom speak in meaw\n"
     ]
    }
   ],
   "source": [
    "g=Get()\n",
    "p=pet()\n",
    "v=g.s_sound()\n",
    "m=p.speak()\n"
   ]
  },
  {
   "cell_type": "markdown",
   "id": "00c893cd",
   "metadata": {},
   "source": [
    " Method overriding"
   ]
  },
  {
   "cell_type": "code",
   "execution_count": 21,
   "id": "0a229d35",
   "metadata": {},
   "outputs": [],
   "source": [
    "class name():\n",
    "    def __init__(self):\n",
    "        self.name=\"sivanesh\"\n",
    "        self.dept=\"MCA\"\n",
    "\n",
    "    def disp(self):\n",
    "        print(self.dept)\n",
    "\n",
    "class dept(name):\n",
    "    def change(self):\n",
    "        print(self.dept)\n",
    "        self.dept=\"BCA\"\n",
    "        print(\"after change\")\n",
    "        print(self.dept)"
   ]
  },
  {
   "cell_type": "code",
   "execution_count": 22,
   "id": "5683cbab",
   "metadata": {},
   "outputs": [
    {
     "name": "stdout",
     "output_type": "stream",
     "text": [
      "MCA\n",
      "MCA\n",
      "after change\n",
      "BCA\n"
     ]
    }
   ],
   "source": [
    "n=name()\n",
    "d=dept()\n",
    "n.disp()\n",
    "d.change()"
   ]
  },
  {
   "cell_type": "markdown",
   "id": "4eaedf43",
   "metadata": {},
   "source": [
    "polymorphism"
   ]
  },
  {
   "cell_type": "code",
   "execution_count": 25,
   "id": "e90fbf1c",
   "metadata": {},
   "outputs": [],
   "source": [
    "class one():\n",
    "    def __init__(self):\n",
    "        self.val=34\n",
    "        self.name=\"gopi\"\n",
    "    def mark(self):\n",
    "        print(f\"the {self.name} scored {self.val}\")\n",
    "\n",
    "class two(one):\n",
    "\n",
    "    def mark(self):\n",
    "        print(f\"the {self.name} should get {self.val} to get pass\")"
   ]
  },
  {
   "cell_type": "code",
   "execution_count": 26,
   "id": "2c91b80e",
   "metadata": {},
   "outputs": [
    {
     "name": "stdout",
     "output_type": "stream",
     "text": [
      "the gopi scored 34\n",
      "the gopi should get 34 to get pass\n"
     ]
    }
   ],
   "source": [
    "o=one()\n",
    "t=two()\n",
    "o.mark()\n",
    "t.mark()"
   ]
  }
 ],
 "metadata": {
  "kernelspec": {
   "display_name": "Python 3",
   "language": "python",
   "name": "python3"
  },
  "language_info": {
   "codemirror_mode": {
    "name": "ipython",
    "version": 3
   },
   "file_extension": ".py",
   "mimetype": "text/x-python",
   "name": "python",
   "nbconvert_exporter": "python",
   "pygments_lexer": "ipython3",
   "version": "3.10.2"
  }
 },
 "nbformat": 4,
 "nbformat_minor": 5
}
