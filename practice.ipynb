{
 "cells": [
  {
   "cell_type": "markdown",
   "id": "b046b4a8",
   "metadata": {},
   "source": [
    "1.String rev"
   ]
  },
  {
   "cell_type": "code",
   "execution_count": 1,
   "id": "fe03e71d",
   "metadata": {},
   "outputs": [
    {
     "data": {
      "text/plain": [
       "'yppah'"
      ]
     },
     "execution_count": 1,
     "metadata": {},
     "output_type": "execute_result"
    }
   ],
   "source": [
    "name=\"happy\"\n",
    "rev=\"\"\n",
    "for i in name:\n",
    "    rev=i+rev\n",
    "rev"
   ]
  },
  {
   "cell_type": "markdown",
   "id": "26f6b28e",
   "metadata": {},
   "source": [
    "2.pallineliyanur"
   ]
  },
  {
   "cell_type": "code",
   "execution_count": 2,
   "id": "a32506e3",
   "metadata": {},
   "outputs": [
    {
     "name": "stdout",
     "output_type": "stream",
     "text": [
      "yes its pallineliyanur\n"
     ]
    }
   ],
   "source": [
    "name=\"madam\"\n",
    "rev=\"\"\n",
    "for i in name:\n",
    "    rev=i+rev\n",
    "if rev==name:\n",
    "    print(\"yes its pallineliyanur\")\n",
    "else:\n",
    "    print(\"not a pallineliyanur\")"
   ]
  },
  {
   "cell_type": "markdown",
   "id": "c44b4fdf",
   "metadata": {},
   "source": [
    "3.count vowel"
   ]
  },
  {
   "cell_type": "code",
   "execution_count": 3,
   "id": "68bed204",
   "metadata": {},
   "outputs": [
    {
     "data": {
      "text/plain": [
       "{'a': 2, 'e': 4, 'i': 2}"
      ]
     },
     "execution_count": 3,
     "metadata": {},
     "output_type": "execute_result"
    }
   ],
   "source": [
    "vowel=\"aeiou\"\n",
    "val=\"all 13 selected in gen ai \"\n",
    "new={}\n",
    "for ch in val:\n",
    "    if ch in vowel:\n",
    "        new[ch]=new.get(ch,0)+1\n",
    "new"
   ]
  },
  {
   "cell_type": "markdown",
   "id": "61a59d0d",
   "metadata": {},
   "source": [
    "4.non repeated value"
   ]
  },
  {
   "cell_type": "code",
   "execution_count": 4,
   "id": "0cf153a9",
   "metadata": {},
   "outputs": [
    {
     "name": "stdout",
     "output_type": "stream",
     "text": [
      "t\n"
     ]
    }
   ],
   "source": [
    "valu=\"today is nice day\"\n",
    "for ch in valu:\n",
    "    if valu.count(ch)==1:\n",
    "        print(ch)\n",
    "        break\n"
   ]
  },
  {
   "cell_type": "markdown",
   "id": "4eff67da",
   "metadata": {},
   "source": [
    "5.max/min\n"
   ]
  },
  {
   "cell_type": "code",
   "execution_count": 5,
   "id": "25148f42",
   "metadata": {},
   "outputs": [
    {
     "data": {
      "text/plain": [
       "(2, 9)"
      ]
     },
     "execution_count": 5,
     "metadata": {},
     "output_type": "execute_result"
    }
   ],
   "source": [
    "li=[2,3,5,6,7,8,9]\n",
    "min=max=li[0]\n",
    "for i in li:\n",
    "    if i > max:\n",
    "        max=i\n",
    "    elif i<min != max:\n",
    "        min=i\n",
    "min,max"
   ]
  },
  {
   "cell_type": "markdown",
   "id": "429acbaf",
   "metadata": {},
   "source": [
    "6.remove duplicate"
   ]
  },
  {
   "cell_type": "code",
   "execution_count": 6,
   "id": "99696601",
   "metadata": {},
   "outputs": [
    {
     "data": {
      "text/plain": [
       "[2, 3, 4, 5, 6]"
      ]
     },
     "execution_count": 6,
     "metadata": {},
     "output_type": "execute_result"
    }
   ],
   "source": [
    "lis=[2,3,4,5,4,3,2,5,6]\n",
    "new=[]\n",
    "for i in lis:\n",
    "    if i not in new:\n",
    "        new.append(i)\n",
    "new\n"
   ]
  },
  {
   "cell_type": "markdown",
   "id": "4765bbb4",
   "metadata": {},
   "source": [
    "7.common elements"
   ]
  },
  {
   "cell_type": "code",
   "execution_count": 9,
   "id": "42fa27de",
   "metadata": {},
   "outputs": [
    {
     "data": {
      "text/plain": [
       "[3, 5, 7]"
      ]
     },
     "execution_count": 9,
     "metadata": {},
     "output_type": "execute_result"
    }
   ],
   "source": [
    "l1=[3,4,5,6,7]\n",
    "l2=[7,3,5,7,2]\n",
    "com=[]\n",
    "for i in l1:\n",
    "    if i in l2 and (i not in com):\n",
    "        com.append(i)\n",
    "\n",
    "com"
   ]
  },
  {
   "cell_type": "markdown",
   "id": "381adc4a",
   "metadata": {},
   "source": [
    "8.sorting"
   ]
  },
  {
   "cell_type": "code",
   "execution_count": 11,
   "id": "d8e1bfc5",
   "metadata": {},
   "outputs": [
    {
     "data": {
      "text/plain": [
       "[1, 2, 3, 4, 5, 6, 7]"
      ]
     },
     "execution_count": 11,
     "metadata": {},
     "output_type": "execute_result"
    }
   ],
   "source": [
    "lis=[3,4,5,6,7,1,2]\n",
    "for i in range(len(lis)):\n",
    "    for j in range(0,len(lis)-i-1):\n",
    "        if lis[j]>lis[j+1]:\n",
    "            lis[j],lis[j+1]=lis[j+1],lis[j]\n",
    "lis"
   ]
  },
  {
   "cell_type": "markdown",
   "id": "2c434a68",
   "metadata": {},
   "source": [
    "9.second highest"
   ]
  },
  {
   "cell_type": "code",
   "execution_count": 14,
   "id": "f56c9e58",
   "metadata": {},
   "outputs": [
    {
     "data": {
      "text/plain": [
       "6"
      ]
     },
     "execution_count": 14,
     "metadata": {},
     "output_type": "execute_result"
    }
   ],
   "source": [
    "lis=[3,4,5,6,7,2]\n",
    "first=second=lis[0]\n",
    "for i in lis:\n",
    "    if i>first:\n",
    "        second=first\n",
    "        first=i\n",
    "    elif i>second and i!=first:\n",
    "        second=i\n",
    "second"
   ]
  },
  {
   "cell_type": "markdown",
   "id": "e4ee12fc",
   "metadata": {},
   "source": [
    "10.list is sorted or not"
   ]
  },
  {
   "cell_type": "code",
   "execution_count": 18,
   "id": "ed836f2d",
   "metadata": {},
   "outputs": [
    {
     "name": "stdout",
     "output_type": "stream",
     "text": [
      "not sorted\n"
     ]
    }
   ],
   "source": [
    "lis=[2,3,4,2,5,6,9]\n",
    "old=lis[:]\n",
    "for  i in range(len(lis)):\n",
    "    for j in range(0,len(lis)-i-1):\n",
    "        if lis[j]>lis[j+1]:\n",
    "            lis[j],lis[j+1]=lis[j+1],lis[j]\n",
    "if lis==old:\n",
    "    print(\"it is sorted\")\n",
    "else:\n",
    "    print(\"not sorted\")"
   ]
  },
  {
   "cell_type": "markdown",
   "id": "1833b31d",
   "metadata": {},
   "source": [
    "11.merge two list and sort\n"
   ]
  },
  {
   "cell_type": "code",
   "execution_count": 19,
   "id": "d432b132",
   "metadata": {},
   "outputs": [
    {
     "data": {
      "text/plain": [
       "[2, 4, 5, 5, 8, 9]"
      ]
     },
     "execution_count": 19,
     "metadata": {},
     "output_type": "execute_result"
    }
   ],
   "source": [
    "l1=[2,4,5]\n",
    "l2=[5,8,9]\n",
    "new=l1+l2\n",
    "for  i in range(len(new)):\n",
    "    for j in range(0,len(new)-i-1):\n",
    "        if new[j]>new[j+1]:\n",
    "            new[j],new[j+1]=new[j+1],new[j]\n",
    "new"
   ]
  },
  {
   "cell_type": "markdown",
   "id": "a7ebfc5b",
   "metadata": {},
   "source": [
    "12.factorial"
   ]
  },
  {
   "cell_type": "code",
   "execution_count": 22,
   "id": "56366b1a",
   "metadata": {},
   "outputs": [
    {
     "data": {
      "text/plain": [
       "120"
      ]
     },
     "execution_count": 22,
     "metadata": {},
     "output_type": "execute_result"
    }
   ],
   "source": [
    "def fact(n):\n",
    "    if n<1:\n",
    "        return\"not possible\"\n",
    "    elif n==1 or n==0:\n",
    "        return 1\n",
    "    else:\n",
    "        return n*fact(n-1)\n",
    "fact(5)"
   ]
  },
  {
   "cell_type": "markdown",
   "id": "4198f5d9",
   "metadata": {},
   "source": [
    "13.fibonacci"
   ]
  },
  {
   "cell_type": "code",
   "execution_count": 27,
   "id": "d819c4f2",
   "metadata": {},
   "outputs": [
    {
     "data": {
      "text/plain": [
       "34"
      ]
     },
     "execution_count": 27,
     "metadata": {},
     "output_type": "execute_result"
    }
   ],
   "source": [
    "def fibo(n):\n",
    "    if n<0:\n",
    "        return \"NP\"\n",
    "    elif n==0:\n",
    "        return 0\n",
    "    elif n==1:\n",
    "        return 1\n",
    "    else:\n",
    "        return fibo(n-1)+fibo(n-2)\n",
    "\n",
    "fibo(9)"
   ]
  },
  {
   "cell_type": "markdown",
   "id": "c187fe44",
   "metadata": {},
   "source": [
    "14.check prime number"
   ]
  },
  {
   "cell_type": "code",
   "execution_count": null,
   "id": "dccf386c",
   "metadata": {},
   "outputs": [
    {
     "name": "stdout",
     "output_type": "stream",
     "text": [
      "prime\n"
     ]
    }
   ],
   "source": [
    "n=7\n",
    "prime=True\n",
    "\n",
    "for i in range(2,n):\n",
    "    if n % i==0:\n",
    "        prime=False\n",
    "        \n",
    "if prime:\n",
    "    print(\"prime\")\n",
    "else:\n",
    "    print(\"not prime\")\n",
    "        "
   ]
  },
  {
   "cell_type": "markdown",
   "id": "f427bdfb",
   "metadata": {},
   "source": [
    "15.fizz buzz"
   ]
  },
  {
   "cell_type": "code",
   "execution_count": 43,
   "id": "9d1bec09",
   "metadata": {},
   "outputs": [
    {
     "name": "stdout",
     "output_type": "stream",
     "text": [
      "1\n",
      "2\n",
      "Fizz\n",
      "4\n",
      "Buzz\n",
      "Fizz\n",
      "7\n",
      "8\n",
      "Fizz\n",
      "Buzz\n",
      "11\n",
      "Fizz\n",
      "13\n",
      "14\n",
      "FizzBuzz\n",
      "16\n",
      "17\n",
      "Fizz\n",
      "19\n"
     ]
    }
   ],
   "source": [
    "n=20\n",
    "for i in range(1,n):\n",
    "    if i %3==0 and i%5==0:\n",
    "        print(\"FizzBuzz\")\n",
    "    elif i%3==0:\n",
    "        print(\"Fizz\")\n",
    "    elif i%5==0:\n",
    "        print(\"Buzz\")\n",
    "    else:\n",
    "        print(i)"
   ]
  },
  {
   "cell_type": "markdown",
   "id": "77989804",
   "metadata": {},
   "source": [
    "16.sum of digit"
   ]
  },
  {
   "cell_type": "code",
   "execution_count": 44,
   "id": "18eb7ea9",
   "metadata": {},
   "outputs": [
    {
     "data": {
      "text/plain": [
       "22"
      ]
     },
     "execution_count": 44,
     "metadata": {},
     "output_type": "execute_result"
    }
   ],
   "source": [
    "d=2938\n",
    "val=0\n",
    "while d>1:\n",
    "    dig=d%10\n",
    "    val=dig+val\n",
    "    d=d//10\n",
    "val"
   ]
  },
  {
   "cell_type": "markdown",
   "id": "5b99f7f1",
   "metadata": {},
   "source": [
    "17.Leap year"
   ]
  },
  {
   "cell_type": "code",
   "execution_count": 47,
   "id": "206fb3fb",
   "metadata": {},
   "outputs": [
    {
     "name": "stdout",
     "output_type": "stream",
     "text": [
      "not leap  year\n"
     ]
    }
   ],
   "source": [
    "year=2001\n",
    "\n",
    "if year%4==0:\n",
    "    if year%100==0:\n",
    "        if year%400==0:\n",
    "            print(\"leap year\")\n",
    "        else:\n",
    "            print(\"not leap year\")\n",
    "    else:\n",
    "        print(\"leap year\")\n",
    "else:\n",
    "    print(\"not leap  year\")"
   ]
  },
  {
   "cell_type": "markdown",
   "id": "ad68a1c8",
   "metadata": {},
   "source": [
    "18.reverse int"
   ]
  },
  {
   "cell_type": "code",
   "execution_count": 49,
   "id": "908093bb",
   "metadata": {},
   "outputs": [
    {
     "data": {
      "text/plain": [
       "4932"
      ]
     },
     "execution_count": 49,
     "metadata": {},
     "output_type": "execute_result"
    }
   ],
   "source": [
    "n=2394\n",
    "s=str(n)\n",
    "rev=\"\"\n",
    "for i in s:\n",
    "    rev=i+rev\n",
    "new=int(rev)\n",
    "new"
   ]
  },
  {
   "cell_type": "code",
   "execution_count": 51,
   "id": "fcb403cd",
   "metadata": {},
   "outputs": [
    {
     "data": {
      "text/plain": [
       "4932"
      ]
     },
     "execution_count": 51,
     "metadata": {},
     "output_type": "execute_result"
    }
   ],
   "source": [
    "n=12394\n",
    "dig=0\n",
    "while n>1:\n",
    "    val=n%10\n",
    "    dig=dig*10 + val\n",
    "    n=n//10\n",
    "\n",
    "dig"
   ]
  },
  {
   "cell_type": "markdown",
   "id": "00758184",
   "metadata": {},
   "source": [
    "19.anagram"
   ]
  },
  {
   "cell_type": "code",
   "execution_count": 59,
   "id": "04aa8d85",
   "metadata": {},
   "outputs": [
    {
     "name": "stdout",
     "output_type": "stream",
     "text": [
      "its anagram\n"
     ]
    }
   ],
   "source": [
    "s1=\"happy\"\n",
    "s2=\"apphy\"\n",
    "\n",
    "count={}\n",
    "anagram=True\n",
    "for ch in s1:\n",
    "    if ch in count:\n",
    "        count[ch]+=1\n",
    "    else:\n",
    "        count[ch]=1\n",
    "for ch in s2:\n",
    "    if ch in count:\n",
    "        count[ch]-=1\n",
    "    else:\n",
    "        anagram=False\n",
    "\n",
    "\n",
    "for i in count.values():\n",
    "    if i != 0 :\n",
    "        anagram=False\n",
    "\n",
    "if anagram:\n",
    "    print(\"its anagram\")\n",
    "else:\n",
    "    print(\"its not anagram\")"
   ]
  },
  {
   "cell_type": "markdown",
   "id": "38dd9732",
   "metadata": {},
   "source": [
    "20.check frequency"
   ]
  },
  {
   "cell_type": "code",
   "execution_count": 64,
   "id": "d222dd81",
   "metadata": {},
   "outputs": [
    {
     "data": {
      "text/plain": [
       "{'t': 3,\n",
       " 'h': 3,\n",
       " 'e': 5,\n",
       " ' ': 6,\n",
       " 'c': 2,\n",
       " 'n': 2,\n",
       " 'a': 2,\n",
       " 'i': 3,\n",
       " 's': 1,\n",
       " 'p': 1,\n",
       " 'l': 2,\n",
       " 'o': 1,\n",
       " 'v': 1}"
      ]
     },
     "execution_count": 64,
     "metadata": {},
     "output_type": "execute_result"
    }
   ],
   "source": [
    "val=\"the chennai is the place to live\"\n",
    "count={}\n",
    "for ch in val:\n",
    "    if ch in count:\n",
    "        count[ch]+=1\n",
    "    else:\n",
    "        count[ch]=1\n",
    "\n",
    "count"
   ]
  },
  {
   "cell_type": "markdown",
   "id": "d507fbfb",
   "metadata": {},
   "source": [
    "21.rotate k steps"
   ]
  },
  {
   "cell_type": "code",
   "execution_count": 70,
   "id": "4ae280d9",
   "metadata": {},
   "outputs": [
    {
     "data": {
      "text/plain": [
       "[5, 8, 2, 3, 4]"
      ]
     },
     "execution_count": 70,
     "metadata": {},
     "output_type": "execute_result"
    }
   ],
   "source": [
    "li=[2,3,4,5,8]\n",
    "k=3\n",
    "n=len(li)\n",
    "new=[0]*n\n",
    "for i in range(n):\n",
    "    new[i]=li[(i+k) % n]\n",
    "new"
   ]
  },
  {
   "cell_type": "markdown",
   "id": "a29f233a",
   "metadata": {},
   "source": [
    "22.pair with given sum"
   ]
  },
  {
   "cell_type": "code",
   "execution_count": null,
   "id": "4ef53816",
   "metadata": {},
   "outputs": [
    {
     "data": {
      "text/plain": [
       "[(8, 2), (7, 3), (6, 4), (5, 5)]"
      ]
     },
     "execution_count": 79,
     "metadata": {},
     "output_type": "execute_result"
    }
   ],
   "source": [
    "target=10\n",
    "lis=[2,3,4,5,6,7,8,9,10]\n",
    "pair=[]\n",
    "for i in range(len(lis)):\n",
    "    for j in range(i+1,len(lis)):\n",
    "        if lis[j]+lis[i]==target:\n",
    "            pair.append((lis[j],lis[i]))\n",
    "pair"
   ]
  },
  {
   "cell_type": "markdown",
   "id": "450dff0c",
   "metadata": {},
   "source": [
    "23.flat the nested list\n"
   ]
  },
  {
   "cell_type": "code",
   "execution_count": 80,
   "id": "96888eb1",
   "metadata": {},
   "outputs": [
    {
     "data": {
      "text/plain": [
       "[3, 4, 5, 6, 6, 7]"
      ]
     },
     "execution_count": 80,
     "metadata": {},
     "output_type": "execute_result"
    }
   ],
   "source": [
    "lis=[[3,4],[5,6],[6,7]]\n",
    "new=[]\n",
    "for li in lis:\n",
    "    for i in li:\n",
    "        new.append(i)\n",
    "new\n",
    "        "
   ]
  },
  {
   "cell_type": "markdown",
   "id": "346e094e",
   "metadata": {},
   "source": [
    "24.prime numbe series"
   ]
  },
  {
   "cell_type": "code",
   "execution_count": 84,
   "id": "caa75820",
   "metadata": {},
   "outputs": [
    {
     "name": "stdout",
     "output_type": "stream",
     "text": [
      "11\n",
      "13\n",
      "17\n",
      "19\n",
      "23\n"
     ]
    }
   ],
   "source": [
    "start=10\n",
    "end=25\n",
    "\n",
    "for i in range(start,end+1):\n",
    "    prime=True\n",
    "    for j in range(2,i):\n",
    "        if i%j==0:\n",
    "            prime=False\n",
    "\n",
    "    if prime:\n",
    "        print(i)\n"
   ]
  },
  {
   "cell_type": "markdown",
   "id": "3cf4b82f",
   "metadata": {},
   "source": [
    "25.missing no in series"
   ]
  },
  {
   "cell_type": "code",
   "execution_count": 87,
   "id": "df695297",
   "metadata": {},
   "outputs": [
    {
     "data": {
      "text/plain": [
       "4"
      ]
     },
     "execution_count": 87,
     "metadata": {},
     "output_type": "execute_result"
    }
   ],
   "source": [
    "ser=[1,2,3,5]\n",
    "n=len(ser)+1\n",
    "exp=n*(n+1)//2\n",
    "act=sum(ser)\n",
    "val=exp-act\n",
    "val"
   ]
  },
  {
   "cell_type": "markdown",
   "id": "9cfa75a6",
   "metadata": {},
   "source": [
    "26.amstrong number"
   ]
  },
  {
   "cell_type": "code",
   "execution_count": 90,
   "id": "e0dfec7c",
   "metadata": {},
   "outputs": [
    {
     "name": "stdout",
     "output_type": "stream",
     "text": [
      "its amstrong num\n"
     ]
    }
   ],
   "source": [
    "num=1634\n",
    "n=str(num)\n",
    "le=len(n)\n",
    "sum=0\n",
    "for val in n:\n",
    "    i=int(val)\n",
    "    sum+=i**le\n",
    "\n",
    "if num==sum:\n",
    "    print(\"its amstrong num\")\n",
    "else:\n",
    "    print(\"its not amstrong num\")\n",
    "    "
   ]
  }
 ],
 "metadata": {
  "kernelspec": {
   "display_name": "Python 3",
   "language": "python",
   "name": "python3"
  },
  "language_info": {
   "codemirror_mode": {
    "name": "ipython",
    "version": 3
   },
   "file_extension": ".py",
   "mimetype": "text/x-python",
   "name": "python",
   "nbconvert_exporter": "python",
   "pygments_lexer": "ipython3",
   "version": "3.10.2"
  }
 },
 "nbformat": 4,
 "nbformat_minor": 5
}
